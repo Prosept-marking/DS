{
 "cells": [
  {
   "cell_type": "markdown",
   "id": "afed621c",
   "metadata": {
    "toc": true
   },
   "source": [
    "<h1>Table of Contents<span class=\"tocSkip\"></span></h1>\n",
    "<div class=\"toc\"><ul class=\"toc-item\"></ul></div>"
   ]
  },
  {
   "cell_type": "code",
   "execution_count": 7,
   "id": "c82e05e4",
   "metadata": {},
   "outputs": [
    {
     "name": "stderr",
     "output_type": "stream",
     "text": [
      "[nltk_data] Downloading package punkt to\n",
      "[nltk_data]     C:\\Users\\Михан\\AppData\\Roaming\\nltk_data...\n",
      "[nltk_data]   Package punkt is already up-to-date!\n"
     ]
    },
    {
     "data": {
      "application/vnd.jupyter.widget-view+json": {
       "model_id": "a6d4d8e4e8a1471bbf1d7ba185ba9a2a",
       "version_major": 2,
       "version_minor": 0
      },
      "text/plain": [
       "  0%|          | 0/455 [00:00<?, ?it/s]"
      ]
     },
     "metadata": {},
     "output_type": "display_data"
    },
    {
     "name": "stdout",
     "output_type": "stream",
     "text": [
      "Номера id товаров Procept(name_1c): [241]\n"
     ]
    }
   ],
   "source": [
    "import os\n",
    "import re\n",
    "import warnings\n",
    "import nltk\n",
    "import numpy as np\n",
    "import pandas as pd\n",
    "\n",
    "from nltk.corpus import stopwords\n",
    "from sklearn.feature_extraction.text import TfidfVectorizer\n",
    "nltk.download('punkt')\n",
    "import string\n",
    "from tqdm.notebook import tqdm\n",
    "tqdm.pandas()\n",
    "\n",
    "# Избавляемся от вывода предупреждений\n",
    "warnings.simplefilter(\"ignore\")\n",
    "\n",
    "# Загружаем датасет\n",
    "df_product = pd.read_csv('C:/Датасеты и проекты/marketing_product.csv', sep=';')\n",
    "\n",
    "\n",
    "def dealer(dealer_name, text_to_find):\n",
    "    data = df_product.dropna(subset=['name_1c', dealer_name]).reset_index(drop=True)\n",
    "    data = data\n",
    "    \n",
    "    stemmer = nltk.stem.porter.PorterStemmer()\n",
    "\n",
    "    remove_punctuation_map = dict((ord(char), None) for char in string.punctuation)\n",
    "\n",
    "    def stem_tokens(tokens):\n",
    "        return [stemmer.stem(item) for item in tokens]    \n",
    "\n",
    "    def normalize(text):    \n",
    "        text = text.replace('\\t', '\\n').split('\\n')\n",
    "        text = \" \".join(text)\n",
    "        return stem_tokens(nltk.word_tokenize(text.lower().translate(remove_punctuation_map)))\n",
    "\n",
    "    vectorizer = TfidfVectorizer(tokenizer=normalize)\n",
    "\n",
    "    def cosine_sim(text1, text2):\n",
    "        tfidf = vectorizer.fit_transform([text1, text2])\n",
    "        return ((tfidf * tfidf.T).A)[0,1]\n",
    "    \n",
    "    # Промежуточная функция.\n",
    "\n",
    "    def similarity (text):\n",
    "        return cosine_sim(text_to_find, text)\n",
    "    \n",
    "    # Столбец 'similarity' покажет схожесть выбранного названия у диллера по отношению к названиям name_1c.\n",
    "    \n",
    "    data['similarity'] = data['name_1c'].progress_apply(similarity)\n",
    "    \n",
    "    # 0.9 это степень схожести\n",
    "    id_numbers = data.loc[data['similarity'] >= 0.9, 'id'].tolist()\n",
    "    print(f'Номера id товаров Procept(name_1c): {id_numbers}')\n",
    "\n",
    "\n",
    "# Здесь 'wb_name' - колонка с названиями у дилера, df_product['wb_name'][5] - название товара у дилера (строка),там не должно быть пропусков\n",
    "dealer('wb_name', df_product['wb_name'][10])"
   ]
  }
 ],
 "metadata": {
  "kernelspec": {
   "display_name": "Python 3 (ipykernel)",
   "language": "python",
   "name": "python3"
  },
  "language_info": {
   "codemirror_mode": {
    "name": "ipython",
    "version": 3
   },
   "file_extension": ".py",
   "mimetype": "text/x-python",
   "name": "python",
   "nbconvert_exporter": "python",
   "pygments_lexer": "ipython3",
   "version": "3.9.15"
  },
  "toc": {
   "base_numbering": 1,
   "nav_menu": {},
   "number_sections": true,
   "sideBar": true,
   "skip_h1_title": true,
   "title_cell": "Table of Contents",
   "title_sidebar": "Contents",
   "toc_cell": true,
   "toc_position": {},
   "toc_section_display": true,
   "toc_window_display": false
  }
 },
 "nbformat": 4,
 "nbformat_minor": 5
}
