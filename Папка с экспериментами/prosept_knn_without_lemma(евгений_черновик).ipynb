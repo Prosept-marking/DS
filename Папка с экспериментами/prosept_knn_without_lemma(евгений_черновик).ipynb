{
 "cells": [
  {
   "cell_type": "code",
   "execution_count": 17,
   "id": "6c856821-107c-42ce-9a66-c96ab85f25ed",
   "metadata": {},
   "outputs": [],
   "source": [
    "import os\n",
    "import re\n",
    "from copy import copy, deepcopy\n",
    "\n",
    "from catboost import CatBoostRanker, Pool, cv\n",
    "import nltk\n",
    "import matplotlib.pyplot as plt\n",
    "%matplotlib inline\n",
    "import numpy as np\n",
    "import pandas as pd\n",
    "import scipy as sp\n",
    "from sklearn.model_selection import train_test_split\n",
    "from transliterate import translit, get_available_language_codes\n",
    "from tqdm import tqdm\n",
    "tqdm.pandas(desc='progress')\n",
    "from nltk.corpus import stopwords\n",
    "from pymystem3 import Mystem\n",
    "from wordcloud import WordCloud\n",
    "from sklearn.feature_extraction.text import TfidfVectorizer\n",
    "from sklearn.metrics import precision_score, accuracy_score\n",
    "from joblib import Parallel, delayed\n",
    "from sklearn.neighbors import KNeighborsClassifier\n",
    "from scipy.spatial.distance import pdist, directed_hausdorff as dh, squareform\n",
    "from sklearn.metrics.pairwise import euclidean_distances as ed, cosine_distances\n",
    "from sklearn.ensemble import HistGradientBoostingClassifier as hgbc\n",
    "import lightgbm as lgb\n",
    "import pickle\n",
    "\n",
    "SEED = 616"
   ]
  },
  {
   "cell_type": "code",
   "execution_count": 2,
   "id": "9dca49d4-c705-4c2b-9380-6c4078667946",
   "metadata": {},
   "outputs": [
    {
     "data": {
      "text/plain": [
       "[(496, 14), (1700, 4), (20416, 7)]"
      ]
     },
     "execution_count": 2,
     "metadata": {},
     "output_type": "execute_result"
    }
   ],
   "source": [
    "# серверный путь\n",
    "pth1 = '/datasets/'\n",
    "# локальный путь\n",
    "pth2 = 'C:\\\\Dev\\\\practicum\\\\datasets\\\\'\n",
    "\n",
    "try:\n",
    "    if os.path.exists(pth1):\n",
    "        df_product = pd.read_csv(\n",
    "            pth1+'marketing_product.csv',\n",
    "            sep=';',\n",
    "            header=0,\n",
    "            on_bad_lines='skip'\n",
    "        )\n",
    "        df_product_dealer_key = pd.read_csv(\n",
    "            pth1+'marketing_productdealerkey.csv',\n",
    "            sep=';',\n",
    "            header=0,\n",
    "            on_bad_lines='skip'\n",
    "        )\n",
    "        df_dealer_price = pd.read_csv(\n",
    "            pth1+'marketing_dealerprice.csv',\n",
    "            sep=';',\n",
    "            header=0,\n",
    "            on_bad_lines='skip'\n",
    "        )\n",
    "    elif os.path.exists(pth2):\n",
    "        df_product = pd.read_csv(\n",
    "            pth2+'marketing_product.csv',\n",
    "            sep=';',\n",
    "            index_col=0,\n",
    "            # header=0,\n",
    "            on_bad_lines='skip'\n",
    "        )\n",
    "        df_product_dealer_key = pd.read_csv(\n",
    "            pth2+'marketing_productdealerkey.csv',\n",
    "            sep=';',\n",
    "            header=0,\n",
    "            on_bad_lines='skip'\n",
    "        )\n",
    "        df_dealer_price = pd.read_csv(\n",
    "            pth2+'marketing_dealerprice.csv',\n",
    "            sep=';',\n",
    "            header=0,\n",
    "            on_bad_lines='skip'\n",
    "        )\n",
    "except FileNotFoundError:\n",
    "        print('Path does not exist. Check path')\n",
    "\n",
    "[df_product.shape, df_product_dealer_key.shape, df_dealer_price.shape]"
   ]
  },
  {
   "cell_type": "code",
   "execution_count": 3,
   "id": "91bce428-bc99-4953-aaa5-9bd48959c383",
   "metadata": {},
   "outputs": [
    {
     "data": {
      "text/plain": [
       "(485, 3)"
      ]
     },
     "execution_count": 3,
     "metadata": {},
     "output_type": "execute_result"
    }
   ],
   "source": [
    "data_product = df_product[['id', 'name_1c', 'recommended_price']].copy()\n",
    "data_product = data_product.loc[data_product['name_1c'].notna()].reset_index()\n",
    "data_product = data_product.drop(['index'], axis=1)\n",
    "data_product.shape"
   ]
  },
  {
   "cell_type": "code",
   "execution_count": 4,
   "id": "97a9a6c1-cebe-4ac8-ac4e-4d4c79b86a6e",
   "metadata": {},
   "outputs": [],
   "source": [
    "# функция для очистки текста\n",
    "def clear_text(text):\n",
    "    text = re.sub(r'\"{2}|[/]', ' ', text) # убирает 2 подряд кавычки (\") + убирает слэш\n",
    "    text = re.sub(r'(?<=[а-я])[A-Z]', ' \\g<0>', text) # разделяет пробелом слип. англ. и русское слова\n",
    "    text = re.sub(r'[A-Za-z](?=[а-я])', '\\g<0> ', text) # разделяет пробелом слип. англ. и русское слова\n",
    "    text = re.sub(r'(?<=[А-Я]{2})[а-я]', ' \\g<0>', text) # разделяет пробелом слип. русские слова\n",
    "    text = re.sub(r'\\W', ' ', text) # убирает знаки препинания\n",
    "    text = re.sub(r'\\d', '', text) # убирает цифры\n",
    "    text = text.lower() # в нижний регистр\n",
    "    return ' '.join(text.split())"
   ]
  },
  {
   "cell_type": "code",
   "execution_count": 5,
   "id": "c51c5b68-dd77-4fe5-ae75-6a9d5a2c478c",
   "metadata": {},
   "outputs": [
    {
     "data": {
      "text/plain": [
       "(485, 4)"
      ]
     },
     "execution_count": 5,
     "metadata": {},
     "output_type": "execute_result"
    }
   ],
   "source": [
    "data_product['clear_name'] = data_product['name_1c'].apply(clear_text)\n",
    "data_product.shape"
   ]
  },
  {
   "cell_type": "code",
   "execution_count": 6,
   "id": "3318c59b-bcb2-42fd-a08f-6893299590e2",
   "metadata": {},
   "outputs": [],
   "source": [
    "count_tf_idf = TfidfVectorizer()\n",
    "X_train_tfidf = count_tf_idf.fit_transform(data_product['clear_name'])\n",
    "y_train = data_product['id']"
   ]
  },
  {
   "cell_type": "code",
   "execution_count": 7,
   "id": "6787a32c-1224-4430-8df6-7d04d53405f2",
   "metadata": {},
   "outputs": [
    {
     "data": {
      "text/html": [
       "<style>#sk-container-id-1 {color: black;}#sk-container-id-1 pre{padding: 0;}#sk-container-id-1 div.sk-toggleable {background-color: white;}#sk-container-id-1 label.sk-toggleable__label {cursor: pointer;display: block;width: 100%;margin-bottom: 0;padding: 0.3em;box-sizing: border-box;text-align: center;}#sk-container-id-1 label.sk-toggleable__label-arrow:before {content: \"▸\";float: left;margin-right: 0.25em;color: #696969;}#sk-container-id-1 label.sk-toggleable__label-arrow:hover:before {color: black;}#sk-container-id-1 div.sk-estimator:hover label.sk-toggleable__label-arrow:before {color: black;}#sk-container-id-1 div.sk-toggleable__content {max-height: 0;max-width: 0;overflow: hidden;text-align: left;background-color: #f0f8ff;}#sk-container-id-1 div.sk-toggleable__content pre {margin: 0.2em;color: black;border-radius: 0.25em;background-color: #f0f8ff;}#sk-container-id-1 input.sk-toggleable__control:checked~div.sk-toggleable__content {max-height: 200px;max-width: 100%;overflow: auto;}#sk-container-id-1 input.sk-toggleable__control:checked~label.sk-toggleable__label-arrow:before {content: \"▾\";}#sk-container-id-1 div.sk-estimator input.sk-toggleable__control:checked~label.sk-toggleable__label {background-color: #d4ebff;}#sk-container-id-1 div.sk-label input.sk-toggleable__control:checked~label.sk-toggleable__label {background-color: #d4ebff;}#sk-container-id-1 input.sk-hidden--visually {border: 0;clip: rect(1px 1px 1px 1px);clip: rect(1px, 1px, 1px, 1px);height: 1px;margin: -1px;overflow: hidden;padding: 0;position: absolute;width: 1px;}#sk-container-id-1 div.sk-estimator {font-family: monospace;background-color: #f0f8ff;border: 1px dotted black;border-radius: 0.25em;box-sizing: border-box;margin-bottom: 0.5em;}#sk-container-id-1 div.sk-estimator:hover {background-color: #d4ebff;}#sk-container-id-1 div.sk-parallel-item::after {content: \"\";width: 100%;border-bottom: 1px solid gray;flex-grow: 1;}#sk-container-id-1 div.sk-label:hover label.sk-toggleable__label {background-color: #d4ebff;}#sk-container-id-1 div.sk-serial::before {content: \"\";position: absolute;border-left: 1px solid gray;box-sizing: border-box;top: 0;bottom: 0;left: 50%;z-index: 0;}#sk-container-id-1 div.sk-serial {display: flex;flex-direction: column;align-items: center;background-color: white;padding-right: 0.2em;padding-left: 0.2em;position: relative;}#sk-container-id-1 div.sk-item {position: relative;z-index: 1;}#sk-container-id-1 div.sk-parallel {display: flex;align-items: stretch;justify-content: center;background-color: white;position: relative;}#sk-container-id-1 div.sk-item::before, #sk-container-id-1 div.sk-parallel-item::before {content: \"\";position: absolute;border-left: 1px solid gray;box-sizing: border-box;top: 0;bottom: 0;left: 50%;z-index: -1;}#sk-container-id-1 div.sk-parallel-item {display: flex;flex-direction: column;z-index: 1;position: relative;background-color: white;}#sk-container-id-1 div.sk-parallel-item:first-child::after {align-self: flex-end;width: 50%;}#sk-container-id-1 div.sk-parallel-item:last-child::after {align-self: flex-start;width: 50%;}#sk-container-id-1 div.sk-parallel-item:only-child::after {width: 0;}#sk-container-id-1 div.sk-dashed-wrapped {border: 1px dashed gray;margin: 0 0.4em 0.5em 0.4em;box-sizing: border-box;padding-bottom: 0.4em;background-color: white;}#sk-container-id-1 div.sk-label label {font-family: monospace;font-weight: bold;display: inline-block;line-height: 1.2em;}#sk-container-id-1 div.sk-label-container {text-align: center;}#sk-container-id-1 div.sk-container {/* jupyter's `normalize.less` sets `[hidden] { display: none; }` but bootstrap.min.css set `[hidden] { display: none !important; }` so we also need the `!important` here to be able to override the default hidden behavior on the sphinx rendered scikit-learn.org. See: https://github.com/scikit-learn/scikit-learn/issues/21755 */display: inline-block !important;position: relative;}#sk-container-id-1 div.sk-text-repr-fallback {display: none;}</style><div id=\"sk-container-id-1\" class=\"sk-top-container\"><div class=\"sk-text-repr-fallback\"><pre>KNeighborsClassifier(metric=&#x27;cosine&#x27;, weights=&#x27;distance&#x27;)</pre><b>In a Jupyter environment, please rerun this cell to show the HTML representation or trust the notebook. <br />On GitHub, the HTML representation is unable to render, please try loading this page with nbviewer.org.</b></div><div class=\"sk-container\" hidden><div class=\"sk-item\"><div class=\"sk-estimator sk-toggleable\"><input class=\"sk-toggleable__control sk-hidden--visually\" id=\"sk-estimator-id-1\" type=\"checkbox\" checked><label for=\"sk-estimator-id-1\" class=\"sk-toggleable__label sk-toggleable__label-arrow\">KNeighborsClassifier</label><div class=\"sk-toggleable__content\"><pre>KNeighborsClassifier(metric=&#x27;cosine&#x27;, weights=&#x27;distance&#x27;)</pre></div></div></div></div></div>"
      ],
      "text/plain": [
       "KNeighborsClassifier(metric='cosine', weights='distance')"
      ]
     },
     "execution_count": 7,
     "metadata": {},
     "output_type": "execute_result"
    }
   ],
   "source": [
    "knn_model = KNeighborsClassifier(n_neighbors=5, weights='distance', metric='cosine')\n",
    "knn_model.fit(X_train_tfidf, y_train)"
   ]
  },
  {
   "cell_type": "code",
   "execution_count": 8,
   "id": "f5db38e8-e98c-461e-acd6-372ff2521ddb",
   "metadata": {},
   "outputs": [
    {
     "name": "stdout",
     "output_type": "stream",
     "text": [
      "<class 'pandas.core.frame.DataFrame'>\n",
      "Index: 17567 entries, 0 to 20413\n",
      "Data columns (total 3 columns):\n",
      " #   Column        Non-Null Count  Dtype  \n",
      "---  ------        --------------  -----  \n",
      " 0   price         17567 non-null  float64\n",
      " 1   product_name  17567 non-null  object \n",
      " 2   product_id    17567 non-null  int32  \n",
      "dtypes: float64(1), int32(1), object(1)\n",
      "memory usage: 480.3+ KB\n"
     ]
    }
   ],
   "source": [
    "df_dealer_price = df_dealer_price[['product_key', 'price', 'product_name']]\n",
    "df_product_dealer_key.rename(columns={'key':'product_key'}, inplace=True)\n",
    "data_dealer_price = df_dealer_price.merge(df_product_dealer_key, on='product_key', how='left')\n",
    "data_dealer_price = data_dealer_price.drop(columns=['product_key', 'id', 'dealer_id'], axis=1)\n",
    "data_dealer_price.dropna(inplace=True)\n",
    "data_dealer_price['product_id'] = data_dealer_price['product_id'].astype('int', errors='ignore')\n",
    "data_dealer_price.info()"
   ]
  },
  {
   "cell_type": "code",
   "execution_count": 9,
   "id": "b92142b3-baf1-4044-8ff8-ead48bd8931f",
   "metadata": {},
   "outputs": [
    {
     "data": {
      "text/plain": [
       "(17567, 4)"
      ]
     },
     "execution_count": 9,
     "metadata": {},
     "output_type": "execute_result"
    }
   ],
   "source": [
    "data_dealer_price['clear_name'] = data_dealer_price['product_name'].apply(clear_text)\n",
    "data_dealer_price.shape"
   ]
  },
  {
   "cell_type": "code",
   "execution_count": 11,
   "id": "bef94b3b-df3e-42d4-a4d6-b0f4869fc745",
   "metadata": {},
   "outputs": [],
   "source": [
    "X_test_tfidf = count_tf_idf.transform(data_dealer_price['clear_name'])"
   ]
  },
  {
   "cell_type": "code",
   "execution_count": 12,
   "id": "3cd0fd23-da8e-49b2-a9c1-00efe04dbcb7",
   "metadata": {},
   "outputs": [
    {
     "data": {
      "text/plain": [
       "array([ 12,  45,  18, ..., 300, 416,  56], dtype=int64)"
      ]
     },
     "execution_count": 12,
     "metadata": {},
     "output_type": "execute_result"
    }
   ],
   "source": [
    "pred = knn_model.predict(X_test_tfidf)\n",
    "pred"
   ]
  },
  {
   "cell_type": "code",
   "execution_count": 14,
   "id": "74895415-bcbf-4465-a04b-9b06434e201b",
   "metadata": {},
   "outputs": [],
   "source": [
    "neighbors = knn_model.kneighbors(X_test_tfidf, n_neighbors=5, return_distance=False)"
   ]
  },
  {
   "cell_type": "code",
   "execution_count": 15,
   "id": "52e618cd-27cd-4536-bd5d-36891b2739ed",
   "metadata": {},
   "outputs": [
    {
     "data": {
      "text/html": [
       "<div>\n",
       "<style scoped>\n",
       "    .dataframe tbody tr th:only-of-type {\n",
       "        vertical-align: middle;\n",
       "    }\n",
       "\n",
       "    .dataframe tbody tr th {\n",
       "        vertical-align: top;\n",
       "    }\n",
       "\n",
       "    .dataframe thead th {\n",
       "        text-align: right;\n",
       "    }\n",
       "</style>\n",
       "<table border=\"1\" class=\"dataframe\">\n",
       "  <thead>\n",
       "    <tr style=\"text-align: right;\">\n",
       "      <th></th>\n",
       "      <th>query_id</th>\n",
       "      <th>base_id</th>\n",
       "      <th>target</th>\n",
       "    </tr>\n",
       "  </thead>\n",
       "  <tbody>\n",
       "    <tr>\n",
       "      <th>0</th>\n",
       "      <td>12</td>\n",
       "      <td>12</td>\n",
       "      <td>1</td>\n",
       "    </tr>\n",
       "    <tr>\n",
       "      <th>1</th>\n",
       "      <td>12</td>\n",
       "      <td>15</td>\n",
       "      <td>0</td>\n",
       "    </tr>\n",
       "    <tr>\n",
       "      <th>2</th>\n",
       "      <td>12</td>\n",
       "      <td>13</td>\n",
       "      <td>0</td>\n",
       "    </tr>\n",
       "    <tr>\n",
       "      <th>3</th>\n",
       "      <td>12</td>\n",
       "      <td>5</td>\n",
       "      <td>0</td>\n",
       "    </tr>\n",
       "    <tr>\n",
       "      <th>4</th>\n",
       "      <td>12</td>\n",
       "      <td>4</td>\n",
       "      <td>0</td>\n",
       "    </tr>\n",
       "    <tr>\n",
       "      <th>...</th>\n",
       "      <td>...</td>\n",
       "      <td>...</td>\n",
       "      <td>...</td>\n",
       "    </tr>\n",
       "    <tr>\n",
       "      <th>87830</th>\n",
       "      <td>405</td>\n",
       "      <td>57</td>\n",
       "      <td>0</td>\n",
       "    </tr>\n",
       "    <tr>\n",
       "      <th>87831</th>\n",
       "      <td>405</td>\n",
       "      <td>56</td>\n",
       "      <td>0</td>\n",
       "    </tr>\n",
       "    <tr>\n",
       "      <th>87832</th>\n",
       "      <td>405</td>\n",
       "      <td>58</td>\n",
       "      <td>0</td>\n",
       "    </tr>\n",
       "    <tr>\n",
       "      <th>87833</th>\n",
       "      <td>405</td>\n",
       "      <td>52</td>\n",
       "      <td>0</td>\n",
       "    </tr>\n",
       "    <tr>\n",
       "      <th>87834</th>\n",
       "      <td>405</td>\n",
       "      <td>54</td>\n",
       "      <td>0</td>\n",
       "    </tr>\n",
       "  </tbody>\n",
       "</table>\n",
       "<p>87835 rows × 3 columns</p>\n",
       "</div>"
      ],
      "text/plain": [
       "      query_id base_id target\n",
       "0           12      12      1\n",
       "1           12      15      0\n",
       "2           12      13      0\n",
       "3           12       5      0\n",
       "4           12       4      0\n",
       "...        ...     ...    ...\n",
       "87830      405      57      0\n",
       "87831      405      56      0\n",
       "87832      405      58      0\n",
       "87833      405      52      0\n",
       "87834      405      54      0\n",
       "\n",
       "[87835 rows x 3 columns]"
      ]
     },
     "execution_count": 15,
     "metadata": {},
     "output_type": "execute_result"
    }
   ],
   "source": [
    "neighbors_table = pd.DataFrame(columns=['query_id', 'base_id', 'target'])\n",
    "for i in range(len(neighbors)):\n",
    "    # query_id = df_val.iloc[i]['id']\n",
    "    query_id = data_dealer_price.iloc[i]['product_id']\n",
    "    for j in neighbors[i]:\n",
    "        base_id = data_product.iloc[j]['id']\n",
    "        target = 1 if base_id == query_id else 0\n",
    "        neighbors_table = neighbors_table._append({'query_id': query_id, 'base_id': base_id, 'target': target}, ignore_index=True)\n",
    "neighbors_table"
   ]
  },
  {
   "cell_type": "code",
   "execution_count": 16,
   "id": "5e55072e-5a17-49c2-bc6a-92109bdf97d4",
   "metadata": {},
   "outputs": [
    {
     "data": {
      "text/plain": [
       "0.839300962031081"
      ]
     },
     "execution_count": 16,
     "metadata": {},
     "output_type": "execute_result"
    }
   ],
   "source": [
    "success = neighbors_table.target[neighbors_table['target'] == 1].count()\n",
    "precis_at_5 = success / (len(neighbors_table) / 5)\n",
    "precis_at_5"
   ]
  },
  {
   "cell_type": "markdown",
   "id": "ee30433c-4379-4cbc-9485-cbc7266c5582",
   "metadata": {},
   "source": [
    "Global test"
   ]
  },
  {
   "cell_type": "code",
   "execution_count": 19,
   "id": "f1170fcf-bd64-494c-a499-99e3bbc0d661",
   "metadata": {},
   "outputs": [],
   "source": [
    "with open('knn_model.pkl', 'wb') as file:\n",
    "    pickle.dump(knn_model, file)"
   ]
  },
  {
   "cell_type": "code",
   "execution_count": 20,
   "id": "aab8df5a-89dd-4c02-81bb-133e9e31d6fd",
   "metadata": {},
   "outputs": [],
   "source": [
    "with open('knn_model.pkl', 'rb') as file:\n",
    "    clf = pickle.load(file)"
   ]
  },
  {
   "cell_type": "code",
   "execution_count": 28,
   "id": "a291ccb4-9559-438a-b22b-5eb6f69f3e4f",
   "metadata": {},
   "outputs": [],
   "source": [
    "test_row = data_dealer_price.iloc[0]\n",
    "input=[test_row['clear_name']]\n",
    "test_row_tfidf = count_tf_idf.transform(input)"
   ]
  },
  {
   "cell_type": "code",
   "execution_count": 32,
   "id": "97d22c7f-ae8e-4af2-8692-41400f8a1a75",
   "metadata": {},
   "outputs": [],
   "source": [
    "nghbrs = clf.kneighbors(test_row_tfidf, n_neighbors=5, return_distance=False)"
   ]
  },
  {
   "cell_type": "code",
   "execution_count": 35,
   "id": "0b9b538b-a214-4b89-b4b4-e6f6da259e08",
   "metadata": {},
   "outputs": [
    {
     "data": {
      "text/plain": [
       "array([477, 167, 332, 435, 424], dtype=int64)"
      ]
     },
     "execution_count": 35,
     "metadata": {},
     "output_type": "execute_result"
    }
   ],
   "source": [
    "nghbrs[0]"
   ]
  },
  {
   "cell_type": "code",
   "execution_count": 33,
   "id": "e883f9e1-7163-4c9a-a0b6-fb1b27b546ba",
   "metadata": {},
   "outputs": [
    {
     "data": {
      "text/html": [
       "<div>\n",
       "<style scoped>\n",
       "    .dataframe tbody tr th:only-of-type {\n",
       "        vertical-align: middle;\n",
       "    }\n",
       "\n",
       "    .dataframe tbody tr th {\n",
       "        vertical-align: top;\n",
       "    }\n",
       "\n",
       "    .dataframe thead th {\n",
       "        text-align: right;\n",
       "    }\n",
       "</style>\n",
       "<table border=\"1\" class=\"dataframe\">\n",
       "  <thead>\n",
       "    <tr style=\"text-align: right;\">\n",
       "      <th></th>\n",
       "      <th>query_id</th>\n",
       "      <th>base_id</th>\n",
       "      <th>target</th>\n",
       "    </tr>\n",
       "  </thead>\n",
       "  <tbody>\n",
       "    <tr>\n",
       "      <th>0</th>\n",
       "      <td>12</td>\n",
       "      <td>12</td>\n",
       "      <td>1</td>\n",
       "    </tr>\n",
       "    <tr>\n",
       "      <th>1</th>\n",
       "      <td>12</td>\n",
       "      <td>15</td>\n",
       "      <td>0</td>\n",
       "    </tr>\n",
       "    <tr>\n",
       "      <th>2</th>\n",
       "      <td>12</td>\n",
       "      <td>13</td>\n",
       "      <td>0</td>\n",
       "    </tr>\n",
       "    <tr>\n",
       "      <th>3</th>\n",
       "      <td>12</td>\n",
       "      <td>5</td>\n",
       "      <td>0</td>\n",
       "    </tr>\n",
       "    <tr>\n",
       "      <th>4</th>\n",
       "      <td>12</td>\n",
       "      <td>4</td>\n",
       "      <td>0</td>\n",
       "    </tr>\n",
       "  </tbody>\n",
       "</table>\n",
       "</div>"
      ],
      "text/plain": [
       "  query_id base_id target\n",
       "0       12      12      1\n",
       "1       12      15      0\n",
       "2       12      13      0\n",
       "3       12       5      0\n",
       "4       12       4      0"
      ]
     },
     "execution_count": 33,
     "metadata": {},
     "output_type": "execute_result"
    }
   ],
   "source": [
    "nghbrs_table = pd.DataFrame(columns=['query_id', 'base_id', 'target'])\n",
    "for i in range(len(nghbrs)):\n",
    "    # query_id = df_val.iloc[i]['id']\n",
    "    query_id = data_dealer_price.iloc[i]['product_id']\n",
    "    for j in nghbrs[i]:\n",
    "        base_id = data_product.iloc[j]['id']\n",
    "        target = 1 if base_id == query_id else 0\n",
    "        nghbrs_table = nghbrs_table._append({'query_id': query_id, 'base_id': base_id, 'target': target}, ignore_index=True)\n",
    "nghbrs_table"
   ]
  },
  {
   "cell_type": "code",
   "execution_count": 37,
   "id": "9bb48a1d-51fe-43a7-87f0-8ac95a6001ff",
   "metadata": {},
   "outputs": [
    {
     "data": {
      "text/plain": [
       "[12, 15, 13, 5, 4]"
      ]
     },
     "execution_count": 37,
     "metadata": {},
     "output_type": "execute_result"
    }
   ],
   "source": [
    "list(nghbrs_table.base_id.values)"
   ]
  },
  {
   "cell_type": "code",
   "execution_count": 39,
   "id": "477e0a78-db3d-48f9-b07a-b628cfe4f976",
   "metadata": {},
   "outputs": [],
   "source": [
    "product_name = 'Очиститель фасадов SALT CLEANER концентрат 1:2 / 5 л'\n",
    "product_name_tfidf = count_tf_idf.transform([product_name])\n",
    "'Средство универсальное Prosept Universal Spray, 500мл'"
   ]
  },
  {
   "cell_type": "code",
   "execution_count": 42,
   "id": "9788f9f8-e420-4771-8704-601eec74f71b",
   "metadata": {},
   "outputs": [
    {
     "data": {
      "text/plain": [
       "price                                                       856.0\n",
       "product_name    Просепт Professional Bath Acid средство для ух...\n",
       "product_id                                                     51\n",
       "clear_name      просепт professional bath acid средство для ух...\n",
       "Name: 17406, dtype: object"
      ]
     },
     "execution_count": 42,
     "metadata": {},
     "output_type": "execute_result"
    }
   ],
   "source": [
    "data_dealer_price.product_name.iloc[15000]\n",
    "data_dealer_price.iloc[15000]"
   ]
  },
  {
   "cell_type": "code",
   "execution_count": null,
   "id": "82f65569-65e8-4da8-ace0-5efb89315040",
   "metadata": {},
   "outputs": [],
   "source": []
  }
 ],
 "metadata": {
  "kernelspec": {
   "display_name": "Python 3 (ipykernel)",
   "language": "python",
   "name": "python3"
  },
  "language_info": {
   "codemirror_mode": {
    "name": "ipython",
    "version": 3
   },
   "file_extension": ".py",
   "mimetype": "text/x-python",
   "name": "python",
   "nbconvert_exporter": "python",
   "pygments_lexer": "ipython3",
   "version": "3.11.2"
  }
 },
 "nbformat": 4,
 "nbformat_minor": 5
}
